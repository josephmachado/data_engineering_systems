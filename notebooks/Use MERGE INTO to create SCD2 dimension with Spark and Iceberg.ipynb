{
 "cells": [
  {
   "cell_type": "markdown",
   "id": "bc1062de-4fa3-4c3c-9f3e-a159a67a7037",
   "metadata": {},
   "source": [
    "# Setup"
   ]
  },
  {
   "cell_type": "code",
   "execution_count": 95,
   "id": "257ce73c-f29d-4f98-b681-4c5dc3773b92",
   "metadata": {},
   "outputs": [
    {
     "data": {
      "text/html": [
       "\n",
       "            <div>\n",
       "                <p><b>SparkSession - in-memory</b></p>\n",
       "                \n",
       "        <div>\n",
       "            <p><b>SparkContext</b></p>\n",
       "\n",
       "            <p><a href=\"http://b52292f501e7:4044\">Spark UI</a></p>\n",
       "\n",
       "            <dl>\n",
       "              <dt>Version</dt>\n",
       "                <dd><code>v3.5.5</code></dd>\n",
       "              <dt>Master</dt>\n",
       "                <dd><code>local[*]</code></dd>\n",
       "              <dt>AppName</dt>\n",
       "                <dd><code>PySparkShell</code></dd>\n",
       "            </dl>\n",
       "        </div>\n",
       "        \n",
       "            </div>\n",
       "        "
      ],
      "text/plain": [
       "<pyspark.sql.session.SparkSession at 0x7153ad791a80>"
      ]
     },
     "execution_count": 95,
     "metadata": {},
     "output_type": "execute_result"
    }
   ],
   "source": [
    "spark # We will have a sparksession available"
   ]
  },
  {
   "cell_type": "markdown",
   "id": "c2a98b38-4ed4-49f6-beda-47204506dbea",
   "metadata": {},
   "source": [
    "# DDL"
   ]
  },
  {
   "cell_type": "markdown",
   "id": "210b44b9-fae7-42bc-8fed-74a5f0efed83",
   "metadata": {},
   "source": [
    "## Create raw customer upstream table"
   ]
  },
  {
   "cell_type": "code",
   "execution_count": 96,
   "id": "8568c83d-a7bd-40a0-a8ce-377bd127469a",
   "metadata": {},
   "outputs": [
    {
     "data": {
      "text/plain": [
       "DataFrame[]"
      ]
     },
     "execution_count": 96,
     "metadata": {},
     "output_type": "execute_result"
    }
   ],
   "source": [
    "spark.sql(\"DROP TABLE IF EXISTS prod.db.customer\")\n",
    "\n",
    "# Table DDL for customer upstream table\n",
    "spark.sql(\"\"\"\n",
    "CREATE TABLE IF NOT EXISTS prod.db.customer (\n",
    "    customer_id INT,\n",
    "    email STRING,\n",
    "    first_name STRING,\n",
    "    datetime_updated TIMESTAMP\n",
    ") USING iceberg\n",
    "TBLPROPERTIES (\n",
    "    'format-version' = '2'\n",
    ")\"\"\")\n",
    "\n",
    "# Insert some fake data for the OLTP tables\n",
    "spark.sql(\"\"\"\n",
    "-- Insert sample customers\n",
    "INSERT INTO prod.db.customer VALUES\n",
    "  (1, 'john.doe@example.com', 'John', TIMESTAMP '2023-01-15 08:30:00'),\n",
    "  (2, 'jane.smith@example.com', 'Jane', TIMESTAMP '2023-03-18 09:10:30'),\n",
    "  (3, 'robert.brown@example.com', 'Robert', TIMESTAMP '2023-02-10 11:05:45');\n",
    "\"\"\")"
   ]
  },
  {
   "cell_type": "markdown",
   "id": "134d3f4a-bfdc-44d4-a5f3-66ccceecc457",
   "metadata": {},
   "source": [
    "## Create customer_dim dimension table"
   ]
  },
  {
   "cell_type": "code",
   "execution_count": 97,
   "id": "c1b1dbab-2161-4cd1-b4e3-99876c2e3c7b",
   "metadata": {},
   "outputs": [
    {
     "data": {
      "text/plain": [
       "DataFrame[]"
      ]
     },
     "execution_count": 97,
     "metadata": {},
     "output_type": "execute_result"
    }
   ],
   "source": [
    "spark.sql(\"DROP TABLE IF EXISTS prod.db.dim_customer\")\n",
    "\n",
    "spark.sql(\"\"\"\n",
    "CREATE TABLE IF NOT EXISTS prod.db.dim_customer (\n",
    "    customer_id INT,\n",
    "    email STRING,\n",
    "    first_name STRING,\n",
    "    datetime_updated TIMESTAMP,\n",
    "    -- scd2 columns\n",
    "    valid_from TIMESTAMP,\n",
    "    valid_to TIMESTAMP,\n",
    "    is_current BOOLEAN,\n",
    "    is_active BOOLEAN\n",
    ") USING iceberg\n",
    "PARTITIONED BY (datetime_updated)\n",
    "TBLPROPERTIES (\n",
    "    'format-version' = '2'\n",
    ");\"\"\")"
   ]
  },
  {
   "cell_type": "code",
   "execution_count": 98,
   "id": "c12f41ea-253a-4255-b4ae-e9bc68cd7670",
   "metadata": {},
   "outputs": [
    {
     "data": {
      "text/html": [
       "<table>\n",
       "    <thead>\n",
       "        <tr>\n",
       "            <th>customer_id</th>\n",
       "            <th>email</th>\n",
       "            <th>first_name</th>\n",
       "            <th>datetime_updated</th>\n",
       "        </tr>\n",
       "    </thead>\n",
       "    <tbody>\n",
       "        <tr>\n",
       "            <td>1</td>\n",
       "            <td>john.doe@example.com</td>\n",
       "            <td>John</td>\n",
       "            <td>2023-01-15 08:30:00</td>\n",
       "        </tr>\n",
       "        <tr>\n",
       "            <td>2</td>\n",
       "            <td>jane.smith@example.com</td>\n",
       "            <td>Jane</td>\n",
       "            <td>2023-03-18 09:10:30</td>\n",
       "        </tr>\n",
       "        <tr>\n",
       "            <td>3</td>\n",
       "            <td>robert.brown@example.com</td>\n",
       "            <td>Robert</td>\n",
       "            <td>2023-02-10 11:05:45</td>\n",
       "        </tr>\n",
       "    </tbody>\n",
       "</table>"
      ],
      "text/plain": [
       "+-------------+--------------------------+------------+---------------------+\n",
       "| customer_id |                    email | first_name |    datetime_updated |\n",
       "+-------------+--------------------------+------------+---------------------+\n",
       "|           1 |     john.doe@example.com |       John | 2023-01-15 08:30:00 |\n",
       "|           2 |   jane.smith@example.com |       Jane | 2023-03-18 09:10:30 |\n",
       "|           3 | robert.brown@example.com |     Robert | 2023-02-10 11:05:45 |\n",
       "+-------------+--------------------------+------------+---------------------+"
      ]
     },
     "execution_count": 98,
     "metadata": {},
     "output_type": "execute_result"
    }
   ],
   "source": [
    "%%sql\n",
    "select * from prod.db.customer"
   ]
  },
  {
   "cell_type": "code",
   "execution_count": 99,
   "id": "9180ac66-2054-403a-a422-4ebd88180821",
   "metadata": {},
   "outputs": [
    {
     "data": {
      "text/html": [
       "<table>\n",
       "    <thead>\n",
       "        <tr>\n",
       "            <th>customer_id</th>\n",
       "            <th>email</th>\n",
       "            <th>first_name</th>\n",
       "            <th>datetime_updated</th>\n",
       "            <th>valid_from</th>\n",
       "            <th>valid_to</th>\n",
       "            <th>is_current</th>\n",
       "            <th>is_active</th>\n",
       "        </tr>\n",
       "    </thead>\n",
       "    <tbody>\n",
       "    </tbody>\n",
       "</table>"
      ],
      "text/plain": [
       "+-------------+-------+------------+------------------+------------+----------+------------+-----------+\n",
       "| customer_id | email | first_name | datetime_updated | valid_from | valid_to | is_current | is_active |\n",
       "+-------------+-------+------------+------------------+------------+----------+------------+-----------+\n",
       "+-------------+-------+------------+------------------+------------+----------+------------+-----------+"
      ]
     },
     "execution_count": 99,
     "metadata": {},
     "output_type": "execute_result"
    }
   ],
   "source": [
    "%%sql\n",
    "select * from prod.db.dim_customer"
   ]
  },
  {
   "cell_type": "markdown",
   "id": "54c66623-8dce-4290-b5af-4fef9bb63494",
   "metadata": {},
   "source": [
    "# Merge Into\n",
    "\n",
    "Merge into is an operation meant to insert/update/delete rows from a dataset called target given a new dataset called source. The MERGE INTO operation allows us to do updates/insert/deletes\n",
    "\n",
    "1. WHEN MATCHED: Update & Delete\n",
    "2. WHEN NOT MATCHED: Inserts\n",
    "3. WHEN NOT MATCHED BY SOURCE: Update or Delete\n",
    " \n",
    "I addition to this the when matched clause should only modify one target row, since ...\n",
    "\n",
    "add: merge into image"
   ]
  },
  {
   "cell_type": "markdown",
   "id": "1fcb5bc0-c27f-44eb-b070-96df5cffe91e",
   "metadata": {},
   "source": [
    "cant have accept any schema on MERGE INTO"
   ]
  },
  {
   "cell_type": "code",
   "execution_count": 100,
   "id": "ca387c7a-34dd-41e0-a41a-3ae41bc24510",
   "metadata": {},
   "outputs": [
    {
     "data": {
      "text/html": [
       "<table>\n",
       "    <thead>\n",
       "        <tr>\n",
       "        </tr>\n",
       "    </thead>\n",
       "    <tbody>\n",
       "    </tbody>\n",
       "</table>"
      ],
      "text/plain": [
       "++\n",
       "||\n",
       "++\n",
       "++"
      ]
     },
     "execution_count": 100,
     "metadata": {},
     "output_type": "execute_result"
    }
   ],
   "source": [
    "%%sql\n",
    "MERGE INTO prod.db.dim_customer t\n",
    "USING (select customer_id as join_key, * from prod.db.customer \n",
    "    union all\n",
    "    select NULL as join_key, * from prod.db.customer) s\n",
    "ON t.customer_id = s.join_key\n",
    "\n",
    "    WHEN MATCHED THEN UPDATE SET is_current = false, valid_to = s.datetime_updated\n",
    "    \n",
    "    WHEN NOT MATCHED and s.join_key is null THEN INSERT (customer_id,email,first_name,datetime_updated,valid_from,is_current,is_active) \n",
    "    VALUES (s.customer_id,s.email,s.first_name,s.datetime_updated,s.datetime_updated,true,true)\n",
    "\n",
    "    WHEN NOT MATCHED BY SOURCE THEN UPDATE SET is_active = false"
   ]
  },
  {
   "cell_type": "code",
   "execution_count": 101,
   "id": "15924098-39ff-4229-a4f8-74444cf325af",
   "metadata": {},
   "outputs": [
    {
     "data": {
      "text/html": [
       "<table>\n",
       "    <thead>\n",
       "        <tr>\n",
       "            <th>customer_id</th>\n",
       "            <th>email</th>\n",
       "            <th>first_name</th>\n",
       "            <th>datetime_updated</th>\n",
       "            <th>valid_from</th>\n",
       "            <th>valid_to</th>\n",
       "            <th>is_current</th>\n",
       "            <th>is_active</th>\n",
       "        </tr>\n",
       "    </thead>\n",
       "    <tbody>\n",
       "        <tr>\n",
       "            <td>2</td>\n",
       "            <td>jane.smith@example.com</td>\n",
       "            <td>Jane</td>\n",
       "            <td>2023-03-18 09:10:30</td>\n",
       "            <td>2023-03-18 09:10:30</td>\n",
       "            <td>None</td>\n",
       "            <td>True</td>\n",
       "            <td>True</td>\n",
       "        </tr>\n",
       "        <tr>\n",
       "            <td>1</td>\n",
       "            <td>john.doe@example.com</td>\n",
       "            <td>John</td>\n",
       "            <td>2023-01-15 08:30:00</td>\n",
       "            <td>2023-01-15 08:30:00</td>\n",
       "            <td>None</td>\n",
       "            <td>True</td>\n",
       "            <td>True</td>\n",
       "        </tr>\n",
       "        <tr>\n",
       "            <td>3</td>\n",
       "            <td>robert.brown@example.com</td>\n",
       "            <td>Robert</td>\n",
       "            <td>2023-02-10 11:05:45</td>\n",
       "            <td>2023-02-10 11:05:45</td>\n",
       "            <td>None</td>\n",
       "            <td>True</td>\n",
       "            <td>True</td>\n",
       "        </tr>\n",
       "    </tbody>\n",
       "</table>"
      ],
      "text/plain": [
       "+-------------+--------------------------+------------+---------------------+---------------------+----------+------------+-----------+\n",
       "| customer_id |                    email | first_name |    datetime_updated |          valid_from | valid_to | is_current | is_active |\n",
       "+-------------+--------------------------+------------+---------------------+---------------------+----------+------------+-----------+\n",
       "|           2 |   jane.smith@example.com |       Jane | 2023-03-18 09:10:30 | 2023-03-18 09:10:30 |     None |       True |      True |\n",
       "|           1 |     john.doe@example.com |       John | 2023-01-15 08:30:00 | 2023-01-15 08:30:00 |     None |       True |      True |\n",
       "|           3 | robert.brown@example.com |     Robert | 2023-02-10 11:05:45 | 2023-02-10 11:05:45 |     None |       True |      True |\n",
       "+-------------+--------------------------+------------+---------------------+---------------------+----------+------------+-----------+"
      ]
     },
     "execution_count": 101,
     "metadata": {},
     "output_type": "execute_result"
    }
   ],
   "source": [
    "%%sql\n",
    "select * from prod.db.dim_customer"
   ]
  },
  {
   "cell_type": "code",
   "execution_count": 102,
   "id": "a8af7b17-1d21-465d-a76a-49e841d895df",
   "metadata": {},
   "outputs": [
    {
     "data": {
      "text/plain": [
       "DataFrame[]"
      ]
     },
     "execution_count": 102,
     "metadata": {},
     "output_type": "execute_result"
    }
   ],
   "source": [
    "# Insert some fake data for the OLTP tables\n",
    "spark.sql(\"\"\"\n",
    "-- Insert sample customers\n",
    "INSERT INTO prod.db.customer VALUES\n",
    "  (20, 'jane.smith@example.com', 'Jane', TIMESTAMP '2023-03-18 09:10:30'),\n",
    "  (30, 'robert.brown@example.com', 'Robert', TIMESTAMP '2023-02-10 11:05:45');\n",
    "\"\"\")\n"
   ]
  },
  {
   "cell_type": "code",
   "execution_count": 103,
   "id": "13e25bd2-2641-437d-8e93-9a570459a29e",
   "metadata": {},
   "outputs": [
    {
     "data": {
      "text/plain": [
       "DataFrame[]"
      ]
     },
     "execution_count": 103,
     "metadata": {},
     "output_type": "execute_result"
    }
   ],
   "source": [
    "\n",
    "spark.sql(\"\"\"\n",
    "UPDATE prod.db.customer SET email =  'john.doe_new_email@example.com', datetime_updated = TIMESTAMP '2023-02-15 08:30:00' \n",
    "WHERE customer_id = 1\n",
    "\"\"\")"
   ]
  },
  {
   "cell_type": "code",
   "execution_count": 104,
   "id": "b807d307-279e-46b9-9d63-ee5a07380178",
   "metadata": {},
   "outputs": [
    {
     "data": {
      "text/html": [
       "<table>\n",
       "    <thead>\n",
       "        <tr>\n",
       "            <th>customer_id</th>\n",
       "            <th>email</th>\n",
       "            <th>first_name</th>\n",
       "            <th>datetime_updated</th>\n",
       "        </tr>\n",
       "    </thead>\n",
       "    <tbody>\n",
       "        <tr>\n",
       "            <td>2</td>\n",
       "            <td>jane.smith@example.com</td>\n",
       "            <td>Jane</td>\n",
       "            <td>2023-03-18 09:10:30</td>\n",
       "        </tr>\n",
       "        <tr>\n",
       "            <td>1</td>\n",
       "            <td>john.doe_new_email@example.com</td>\n",
       "            <td>John</td>\n",
       "            <td>2023-02-15 08:30:00</td>\n",
       "        </tr>\n",
       "        <tr>\n",
       "            <td>20</td>\n",
       "            <td>jane.smith@example.com</td>\n",
       "            <td>Jane</td>\n",
       "            <td>2023-03-18 09:10:30</td>\n",
       "        </tr>\n",
       "        <tr>\n",
       "            <td>3</td>\n",
       "            <td>robert.brown@example.com</td>\n",
       "            <td>Robert</td>\n",
       "            <td>2023-02-10 11:05:45</td>\n",
       "        </tr>\n",
       "        <tr>\n",
       "            <td>30</td>\n",
       "            <td>robert.brown@example.com</td>\n",
       "            <td>Robert</td>\n",
       "            <td>2023-02-10 11:05:45</td>\n",
       "        </tr>\n",
       "    </tbody>\n",
       "</table>"
      ],
      "text/plain": [
       "+-------------+--------------------------------+------------+---------------------+\n",
       "| customer_id |                          email | first_name |    datetime_updated |\n",
       "+-------------+--------------------------------+------------+---------------------+\n",
       "|           2 |         jane.smith@example.com |       Jane | 2023-03-18 09:10:30 |\n",
       "|           1 | john.doe_new_email@example.com |       John | 2023-02-15 08:30:00 |\n",
       "|          20 |         jane.smith@example.com |       Jane | 2023-03-18 09:10:30 |\n",
       "|           3 |       robert.brown@example.com |     Robert | 2023-02-10 11:05:45 |\n",
       "|          30 |       robert.brown@example.com |     Robert | 2023-02-10 11:05:45 |\n",
       "+-------------+--------------------------------+------------+---------------------+"
      ]
     },
     "execution_count": 104,
     "metadata": {},
     "output_type": "execute_result"
    }
   ],
   "source": [
    "%%sql\n",
    "select * from prod.db.customer"
   ]
  },
  {
   "cell_type": "code",
   "execution_count": 106,
   "id": "c8d59f22-8225-41ed-912c-96e7c22abb47",
   "metadata": {},
   "outputs": [
    {
     "data": {
      "text/html": [
       "<table>\n",
       "    <thead>\n",
       "        <tr>\n",
       "        </tr>\n",
       "    </thead>\n",
       "    <tbody>\n",
       "    </tbody>\n",
       "</table>"
      ],
      "text/plain": [
       "++\n",
       "||\n",
       "++\n",
       "++"
      ]
     },
     "execution_count": 106,
     "metadata": {},
     "output_type": "execute_result"
    }
   ],
   "source": [
    "%%sql\n",
    "MERGE INTO prod.db.dim_customer t\n",
    "USING (select customer_id as join_key, * from prod.db.customer \n",
    "    union all\n",
    "    select NULL as join_key, * from prod.db.customer) s\n",
    "ON t.customer_id = s.join_key\n",
    "\n",
    "    WHEN MATCHED THEN UPDATE SET is_current = false, valid_to = s.datetime_updated\n",
    "    \n",
    "    WHEN NOT MATCHED and s.join_key is null THEN INSERT (customer_id,email,first_name,datetime_updated,valid_from,is_current,is_active) \n",
    "    VALUES (s.customer_id,s.email,s.first_name,s.datetime_updated,s.datetime_updated,true,true)\n",
    "\n",
    "    WHEN NOT MATCHED BY SOURCE THEN UPDATE SET is_active = false"
   ]
  },
  {
   "cell_type": "code",
   "execution_count": 107,
   "id": "b607cef5-0721-4b68-8349-778e7aa2b7a6",
   "metadata": {},
   "outputs": [
    {
     "data": {
      "text/html": [
       "<table>\n",
       "    <thead>\n",
       "        <tr>\n",
       "            <th>customer_id</th>\n",
       "            <th>email</th>\n",
       "            <th>first_name</th>\n",
       "            <th>datetime_updated</th>\n",
       "        </tr>\n",
       "    </thead>\n",
       "    <tbody>\n",
       "        <tr>\n",
       "            <td>1</td>\n",
       "            <td>john.doe_new_email@example.com</td>\n",
       "            <td>John</td>\n",
       "            <td>2023-02-15 08:30:00</td>\n",
       "        </tr>\n",
       "        <tr>\n",
       "            <td>2</td>\n",
       "            <td>jane.smith@example.com</td>\n",
       "            <td>Jane</td>\n",
       "            <td>2023-03-18 09:10:30</td>\n",
       "        </tr>\n",
       "        <tr>\n",
       "            <td>3</td>\n",
       "            <td>robert.brown@example.com</td>\n",
       "            <td>Robert</td>\n",
       "            <td>2023-02-10 11:05:45</td>\n",
       "        </tr>\n",
       "        <tr>\n",
       "            <td>20</td>\n",
       "            <td>jane.smith@example.com</td>\n",
       "            <td>Jane</td>\n",
       "            <td>2023-03-18 09:10:30</td>\n",
       "        </tr>\n",
       "        <tr>\n",
       "            <td>30</td>\n",
       "            <td>robert.brown@example.com</td>\n",
       "            <td>Robert</td>\n",
       "            <td>2023-02-10 11:05:45</td>\n",
       "        </tr>\n",
       "    </tbody>\n",
       "</table>"
      ],
      "text/plain": [
       "+-------------+--------------------------------+------------+---------------------+\n",
       "| customer_id |                          email | first_name |    datetime_updated |\n",
       "+-------------+--------------------------------+------------+---------------------+\n",
       "|           1 | john.doe_new_email@example.com |       John | 2023-02-15 08:30:00 |\n",
       "|           2 |         jane.smith@example.com |       Jane | 2023-03-18 09:10:30 |\n",
       "|           3 |       robert.brown@example.com |     Robert | 2023-02-10 11:05:45 |\n",
       "|          20 |         jane.smith@example.com |       Jane | 2023-03-18 09:10:30 |\n",
       "|          30 |       robert.brown@example.com |     Robert | 2023-02-10 11:05:45 |\n",
       "+-------------+--------------------------------+------------+---------------------+"
      ]
     },
     "execution_count": 107,
     "metadata": {},
     "output_type": "execute_result"
    }
   ],
   "source": [
    "%%sql\n",
    "select * from prod.db.customer"
   ]
  },
  {
   "cell_type": "code",
   "execution_count": 109,
   "id": "9cdc5714-e24d-4715-8314-9240ef05b9bb",
   "metadata": {},
   "outputs": [
    {
     "data": {
      "text/html": [
       "<table>\n",
       "    <thead>\n",
       "        <tr>\n",
       "            <th>customer_id</th>\n",
       "            <th>email</th>\n",
       "            <th>first_name</th>\n",
       "            <th>datetime_updated</th>\n",
       "            <th>valid_from</th>\n",
       "            <th>valid_to</th>\n",
       "            <th>is_current</th>\n",
       "            <th>is_active</th>\n",
       "        </tr>\n",
       "    </thead>\n",
       "    <tbody>\n",
       "        <tr>\n",
       "            <td>2</td>\n",
       "            <td>jane.smith@example.com</td>\n",
       "            <td>Jane</td>\n",
       "            <td>2023-03-18 09:10:30</td>\n",
       "            <td>2023-03-18 09:10:30</td>\n",
       "            <td>None</td>\n",
       "            <td>True</td>\n",
       "            <td>True</td>\n",
       "        </tr>\n",
       "        <tr>\n",
       "            <td>20</td>\n",
       "            <td>jane.smith@example.com</td>\n",
       "            <td>Jane</td>\n",
       "            <td>2023-03-18 09:10:30</td>\n",
       "            <td>2023-03-18 09:10:30</td>\n",
       "            <td>None</td>\n",
       "            <td>True</td>\n",
       "            <td>True</td>\n",
       "        </tr>\n",
       "        <tr>\n",
       "            <td>2</td>\n",
       "            <td>jane.smith@example.com</td>\n",
       "            <td>Jane</td>\n",
       "            <td>2023-03-18 09:10:30</td>\n",
       "            <td>2023-03-18 09:10:30</td>\n",
       "            <td>2023-03-18 09:10:30</td>\n",
       "            <td>False</td>\n",
       "            <td>True</td>\n",
       "        </tr>\n",
       "        <tr>\n",
       "            <td>1</td>\n",
       "            <td>john.doe_new_email@example.com</td>\n",
       "            <td>John</td>\n",
       "            <td>2023-02-15 08:30:00</td>\n",
       "            <td>2023-02-15 08:30:00</td>\n",
       "            <td>None</td>\n",
       "            <td>True</td>\n",
       "            <td>True</td>\n",
       "        </tr>\n",
       "        <tr>\n",
       "            <td>3</td>\n",
       "            <td>robert.brown@example.com</td>\n",
       "            <td>Robert</td>\n",
       "            <td>2023-02-10 11:05:45</td>\n",
       "            <td>2023-02-10 11:05:45</td>\n",
       "            <td>None</td>\n",
       "            <td>True</td>\n",
       "            <td>True</td>\n",
       "        </tr>\n",
       "        <tr>\n",
       "            <td>30</td>\n",
       "            <td>robert.brown@example.com</td>\n",
       "            <td>Robert</td>\n",
       "            <td>2023-02-10 11:05:45</td>\n",
       "            <td>2023-02-10 11:05:45</td>\n",
       "            <td>None</td>\n",
       "            <td>True</td>\n",
       "            <td>True</td>\n",
       "        </tr>\n",
       "        <tr>\n",
       "            <td>3</td>\n",
       "            <td>robert.brown@example.com</td>\n",
       "            <td>Robert</td>\n",
       "            <td>2023-02-10 11:05:45</td>\n",
       "            <td>2023-02-10 11:05:45</td>\n",
       "            <td>2023-02-10 11:05:45</td>\n",
       "            <td>False</td>\n",
       "            <td>True</td>\n",
       "        </tr>\n",
       "        <tr>\n",
       "            <td>1</td>\n",
       "            <td>john.doe@example.com</td>\n",
       "            <td>John</td>\n",
       "            <td>2023-01-15 08:30:00</td>\n",
       "            <td>2023-01-15 08:30:00</td>\n",
       "            <td>2023-02-15 08:30:00</td>\n",
       "            <td>False</td>\n",
       "            <td>True</td>\n",
       "        </tr>\n",
       "    </tbody>\n",
       "</table>"
      ],
      "text/plain": [
       "+-------------+--------------------------------+------------+---------------------+---------------------+---------------------+------------+-----------+\n",
       "| customer_id |                          email | first_name |    datetime_updated |          valid_from |            valid_to | is_current | is_active |\n",
       "+-------------+--------------------------------+------------+---------------------+---------------------+---------------------+------------+-----------+\n",
       "|           2 |         jane.smith@example.com |       Jane | 2023-03-18 09:10:30 | 2023-03-18 09:10:30 |                None |       True |      True |\n",
       "|          20 |         jane.smith@example.com |       Jane | 2023-03-18 09:10:30 | 2023-03-18 09:10:30 |                None |       True |      True |\n",
       "|           2 |         jane.smith@example.com |       Jane | 2023-03-18 09:10:30 | 2023-03-18 09:10:30 | 2023-03-18 09:10:30 |      False |      True |\n",
       "|           1 | john.doe_new_email@example.com |       John | 2023-02-15 08:30:00 | 2023-02-15 08:30:00 |                None |       True |      True |\n",
       "|           3 |       robert.brown@example.com |     Robert | 2023-02-10 11:05:45 | 2023-02-10 11:05:45 |                None |       True |      True |\n",
       "|          30 |       robert.brown@example.com |     Robert | 2023-02-10 11:05:45 | 2023-02-10 11:05:45 |                None |       True |      True |\n",
       "|           3 |       robert.brown@example.com |     Robert | 2023-02-10 11:05:45 | 2023-02-10 11:05:45 | 2023-02-10 11:05:45 |      False |      True |\n",
       "|           1 |           john.doe@example.com |       John | 2023-01-15 08:30:00 | 2023-01-15 08:30:00 | 2023-02-15 08:30:00 |      False |      True |\n",
       "+-------------+--------------------------------+------------+---------------------+---------------------+---------------------+------------+-----------+"
      ]
     },
     "execution_count": 109,
     "metadata": {},
     "output_type": "execute_result"
    }
   ],
   "source": [
    "%%sql\n",
    "select * from prod.db.dim_customer order by datetime_updated desc"
   ]
  },
  {
   "cell_type": "code",
   "execution_count": null,
   "id": "10c9275f-3d2b-4362-916f-3c57a4667eca",
   "metadata": {},
   "outputs": [],
   "source": []
  }
 ],
 "metadata": {
  "kernelspec": {
   "display_name": "Python 3 (ipykernel)",
   "language": "python",
   "name": "python3"
  },
  "language_info": {
   "codemirror_mode": {
    "name": "ipython",
    "version": 3
   },
   "file_extension": ".py",
   "mimetype": "text/x-python",
   "name": "python",
   "nbconvert_exporter": "python",
   "pygments_lexer": "ipython3",
   "version": "3.10.16"
  }
 },
 "nbformat": 4,
 "nbformat_minor": 5
}
