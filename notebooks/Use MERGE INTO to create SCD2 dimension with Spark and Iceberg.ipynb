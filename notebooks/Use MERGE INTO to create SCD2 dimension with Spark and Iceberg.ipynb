{
 "cells": [
  {
   "cell_type": "markdown",
   "id": "bc1062de-4fa3-4c3c-9f3e-a159a67a7037",
   "metadata": {},
   "source": [
    "# Setup"
   ]
  },
  {
   "cell_type": "code",
   "execution_count": 13,
   "id": "257ce73c-f29d-4f98-b681-4c5dc3773b92",
   "metadata": {},
   "outputs": [
    {
     "data": {
      "text/html": [
       "\n",
       "            <div>\n",
       "                <p><b>SparkSession - in-memory</b></p>\n",
       "                \n",
       "        <div>\n",
       "            <p><b>SparkContext</b></p>\n",
       "\n",
       "            <p><a href=\"http://3a7f72053f7a:4041\">Spark UI</a></p>\n",
       "\n",
       "            <dl>\n",
       "              <dt>Version</dt>\n",
       "                <dd><code>v3.5.5</code></dd>\n",
       "              <dt>Master</dt>\n",
       "                <dd><code>local[*]</code></dd>\n",
       "              <dt>AppName</dt>\n",
       "                <dd><code>PySparkShell</code></dd>\n",
       "            </dl>\n",
       "        </div>\n",
       "        \n",
       "            </div>\n",
       "        "
      ],
      "text/plain": [
       "<pyspark.sql.session.SparkSession at 0x7042fc3cfa90>"
      ]
     },
     "execution_count": 13,
     "metadata": {},
     "output_type": "execute_result"
    }
   ],
   "source": [
    "spark # We will have a sparksession available"
   ]
  },
  {
   "cell_type": "markdown",
   "id": "c2a98b38-4ed4-49f6-beda-47204506dbea",
   "metadata": {},
   "source": [
    "# DDL"
   ]
  },
  {
   "cell_type": "markdown",
   "id": "210b44b9-fae7-42bc-8fed-74a5f0efed83",
   "metadata": {},
   "source": [
    "## Create raw customer upstream table"
   ]
  },
  {
   "cell_type": "code",
   "execution_count": 14,
   "id": "8568c83d-a7bd-40a0-a8ce-377bd127469a",
   "metadata": {},
   "outputs": [
    {
     "name": "stderr",
     "output_type": "stream",
     "text": [
      "                                                                                "
     ]
    },
    {
     "data": {
      "text/plain": [
       "DataFrame[]"
      ]
     },
     "execution_count": 14,
     "metadata": {},
     "output_type": "execute_result"
    }
   ],
   "source": [
    "spark.sql(\"DROP TABLE IF EXISTS prod.db.customer\")\n",
    "\n",
    "# Table DDL for customer upstream table\n",
    "spark.sql(\"\"\"\n",
    "CREATE TABLE IF NOT EXISTS prod.db.customer (\n",
    "    customer_id INT,\n",
    "    email STRING,\n",
    "    first_name STRING,\n",
    "    datetime_updated TIMESTAMP\n",
    ") USING iceberg\n",
    "TBLPROPERTIES (\n",
    "    'format-version' = '2'\n",
    ")\"\"\")\n",
    "\n",
    "# Insert some fake data for the OLTP tables\n",
    "spark.sql(\"\"\"\n",
    "-- Insert sample customers\n",
    "INSERT INTO prod.db.customer VALUES\n",
    "  (1, 'john.doe@example.com', 'John', TIMESTAMP '2023-01-15 08:30:00'),\n",
    "  (2, 'jane.smith@example.com', 'Jane', TIMESTAMP '2023-03-18 09:10:30'),\n",
    "  (3, 'robert.brown@example.com', 'Robert', TIMESTAMP '2023-02-10 11:05:45');\n",
    "\"\"\")"
   ]
  },
  {
   "cell_type": "markdown",
   "id": "134d3f4a-bfdc-44d4-a5f3-66ccceecc457",
   "metadata": {},
   "source": [
    "## Create customer_dim dimension table"
   ]
  },
  {
   "cell_type": "code",
   "execution_count": 15,
   "id": "c1b1dbab-2161-4cd1-b4e3-99876c2e3c7b",
   "metadata": {},
   "outputs": [
    {
     "data": {
      "text/plain": [
       "DataFrame[]"
      ]
     },
     "execution_count": 15,
     "metadata": {},
     "output_type": "execute_result"
    }
   ],
   "source": [
    "spark.sql(\"DROP TABLE IF EXISTS prod.db.dim_customer\")\n",
    "\n",
    "spark.sql(\"\"\"\n",
    "CREATE TABLE IF NOT EXISTS prod.db.dim_customer (\n",
    "    customer_id INT,\n",
    "    email STRING,\n",
    "    first_name STRING,\n",
    "    datetime_updated TIMESTAMP,\n",
    "    -- scd2 columns\n",
    "    valid_from TIMESTAMP,\n",
    "    valid_to TIMESTAMP,\n",
    "    is_current BOOLEAN,\n",
    "    is_active BOOLEAN\n",
    ") USING iceberg\n",
    "PARTITIONED BY (datetime_updated)\n",
    "TBLPROPERTIES (\n",
    "    'format-version' = '2'\n",
    ");\"\"\")"
   ]
  },
  {
   "cell_type": "markdown",
   "id": "54c66623-8dce-4290-b5af-4fef9bb63494",
   "metadata": {},
   "source": [
    "# Merge Into\n",
    "\n",
    "![MERGE INTO](./assets/images/merge_into.jpg)"
   ]
  },
  {
   "cell_type": "markdown",
   "id": "b9d2bc53-3a2f-4f91-80ca-d04a0283a5db",
   "metadata": {},
   "source": [
    "## Preview data"
   ]
  },
  {
   "cell_type": "code",
   "execution_count": 16,
   "id": "c12f41ea-253a-4255-b4ae-e9bc68cd7670",
   "metadata": {},
   "outputs": [
    {
     "data": {
      "text/html": [
       "<table>\n",
       "    <thead>\n",
       "        <tr>\n",
       "            <th>customer_id</th>\n",
       "            <th>email</th>\n",
       "            <th>first_name</th>\n",
       "            <th>datetime_updated</th>\n",
       "        </tr>\n",
       "    </thead>\n",
       "    <tbody>\n",
       "        <tr>\n",
       "            <td>1</td>\n",
       "            <td>john.doe@example.com</td>\n",
       "            <td>John</td>\n",
       "            <td>2023-01-15 08:30:00</td>\n",
       "        </tr>\n",
       "        <tr>\n",
       "            <td>2</td>\n",
       "            <td>jane.smith@example.com</td>\n",
       "            <td>Jane</td>\n",
       "            <td>2023-03-18 09:10:30</td>\n",
       "        </tr>\n",
       "        <tr>\n",
       "            <td>3</td>\n",
       "            <td>robert.brown@example.com</td>\n",
       "            <td>Robert</td>\n",
       "            <td>2023-02-10 11:05:45</td>\n",
       "        </tr>\n",
       "    </tbody>\n",
       "</table>"
      ],
      "text/plain": [
       "+-------------+--------------------------+------------+---------------------+\n",
       "| customer_id |                    email | first_name |    datetime_updated |\n",
       "+-------------+--------------------------+------------+---------------------+\n",
       "|           1 |     john.doe@example.com |       John | 2023-01-15 08:30:00 |\n",
       "|           2 |   jane.smith@example.com |       Jane | 2023-03-18 09:10:30 |\n",
       "|           3 | robert.brown@example.com |     Robert | 2023-02-10 11:05:45 |\n",
       "+-------------+--------------------------+------------+---------------------+"
      ]
     },
     "execution_count": 16,
     "metadata": {},
     "output_type": "execute_result"
    }
   ],
   "source": [
    "%%sql\n",
    "select * from prod.db.customer"
   ]
  },
  {
   "cell_type": "code",
   "execution_count": 17,
   "id": "9180ac66-2054-403a-a422-4ebd88180821",
   "metadata": {},
   "outputs": [
    {
     "data": {
      "text/html": [
       "<table>\n",
       "    <thead>\n",
       "        <tr>\n",
       "            <th>customer_id</th>\n",
       "            <th>email</th>\n",
       "            <th>first_name</th>\n",
       "            <th>datetime_updated</th>\n",
       "            <th>valid_from</th>\n",
       "            <th>valid_to</th>\n",
       "            <th>is_current</th>\n",
       "            <th>is_active</th>\n",
       "        </tr>\n",
       "    </thead>\n",
       "    <tbody>\n",
       "    </tbody>\n",
       "</table>"
      ],
      "text/plain": [
       "+-------------+-------+------------+------------------+------------+----------+------------+-----------+\n",
       "| customer_id | email | first_name | datetime_updated | valid_from | valid_to | is_current | is_active |\n",
       "+-------------+-------+------------+------------------+------------+----------+------------+-----------+\n",
       "+-------------+-------+------------+------------------+------------+----------+------------+-----------+"
      ]
     },
     "execution_count": 17,
     "metadata": {},
     "output_type": "execute_result"
    }
   ],
   "source": [
    "%%sql\n",
    "select * from prod.db.dim_customer"
   ]
  },
  {
   "cell_type": "markdown",
   "id": "dd753893-1f33-436d-af27-19e0b34b22a7",
   "metadata": {},
   "source": [
    "## MERGE INTO logic"
   ]
  },
  {
   "cell_type": "code",
   "execution_count": 18,
   "id": "ca387c7a-34dd-41e0-a41a-3ae41bc24510",
   "metadata": {},
   "outputs": [
    {
     "data": {
      "text/html": [
       "<table>\n",
       "    <thead>\n",
       "        <tr>\n",
       "        </tr>\n",
       "    </thead>\n",
       "    <tbody>\n",
       "    </tbody>\n",
       "</table>"
      ],
      "text/plain": [
       "++\n",
       "||\n",
       "++\n",
       "++"
      ]
     },
     "execution_count": 18,
     "metadata": {},
     "output_type": "execute_result"
    }
   ],
   "source": [
    "%%sql\n",
    "With customers_with_updates as (\n",
    "select c.*\n",
    "    from prod.db.customer c\n",
    "    join prod.db.dim_customer dc\n",
    "    on c.customer_id = dc.customer_id -- Customer exists in dim_customer\n",
    "    where c.datetime_updated > dc.datetime_updated -- ensure that the update in upstream customer is newer than the latest data in dim_customer\n",
    "    and dc.is_current = true -- only look at the most current state of customer in dim_customer\n",
    ")\n",
    "MERGE INTO prod.db.dim_customer t -- target dim_customer to update\n",
    "USING (\n",
    "    select customer_id as join_key, * from prod.db.customer -- New customers to be INSERTED, existing customers to be UPDATED\n",
    "    union all\n",
    "    select NULL as join_key, * from customers_with_updates -- Existing customers, but updated values to be INSERTED\n",
    "    ) s\n",
    "ON t.customer_id = s.join_key -- natural key for customer\n",
    "\n",
    "    WHEN MATCHED AND is_current = true AND s.datetime_updated > t.datetime_updated -- condition to UPDATE most recent customers in dim_customer that have had updates\n",
    "    THEN UPDATE SET is_current = false, valid_to = s.datetime_updated\n",
    "    \n",
    "    WHEN NOT MATCHED \n",
    "    THEN INSERT (customer_id,email,first_name,datetime_updated,valid_from,is_current,is_active) -- condition to INSERT new customers and customers with updates\n",
    "    VALUES (s.customer_id,s.email,s.first_name,s.datetime_updated,s.datetime_updated,true,true)\n",
    "\n",
    "    WHEN NOT MATCHED BY SOURCE -- condition to set deleted customers in dim_customer to be in-active\n",
    "    THEN UPDATE SET is_active = false"
   ]
  },
  {
   "cell_type": "markdown",
   "id": "9328f017-329f-489f-9a3f-72bab71081f9",
   "metadata": {},
   "source": [
    "## Check output SCD2 data"
   ]
  },
  {
   "cell_type": "code",
   "execution_count": 21,
   "id": "15924098-39ff-4229-a4f8-74444cf325af",
   "metadata": {},
   "outputs": [
    {
     "data": {
      "text/html": [
       "<table>\n",
       "    <thead>\n",
       "        <tr>\n",
       "            <th>customer_id</th>\n",
       "            <th>email</th>\n",
       "            <th>first_name</th>\n",
       "            <th>datetime_updated</th>\n",
       "            <th>valid_from</th>\n",
       "            <th>valid_to</th>\n",
       "            <th>is_current</th>\n",
       "            <th>is_active</th>\n",
       "        </tr>\n",
       "    </thead>\n",
       "    <tbody>\n",
       "        <tr>\n",
       "            <td>2</td>\n",
       "            <td>jane.smith@example.com</td>\n",
       "            <td>Jane</td>\n",
       "            <td>2023-03-18 09:10:30</td>\n",
       "            <td>2023-03-18 09:10:30</td>\n",
       "            <td>None</td>\n",
       "            <td>True</td>\n",
       "            <td>True</td>\n",
       "        </tr>\n",
       "        <tr>\n",
       "            <td>1</td>\n",
       "            <td>john.doe@example.com</td>\n",
       "            <td>John</td>\n",
       "            <td>2023-01-15 08:30:00</td>\n",
       "            <td>2023-01-15 08:30:00</td>\n",
       "            <td>None</td>\n",
       "            <td>True</td>\n",
       "            <td>True</td>\n",
       "        </tr>\n",
       "        <tr>\n",
       "            <td>3</td>\n",
       "            <td>robert.brown@example.com</td>\n",
       "            <td>Robert</td>\n",
       "            <td>2023-02-10 11:05:45</td>\n",
       "            <td>2023-02-10 11:05:45</td>\n",
       "            <td>None</td>\n",
       "            <td>True</td>\n",
       "            <td>True</td>\n",
       "        </tr>\n",
       "    </tbody>\n",
       "</table>"
      ],
      "text/plain": [
       "+-------------+--------------------------+------------+---------------------+---------------------+----------+------------+-----------+\n",
       "| customer_id |                    email | first_name |    datetime_updated |          valid_from | valid_to | is_current | is_active |\n",
       "+-------------+--------------------------+------------+---------------------+---------------------+----------+------------+-----------+\n",
       "|           2 |   jane.smith@example.com |       Jane | 2023-03-18 09:10:30 | 2023-03-18 09:10:30 |     None |       True |      True |\n",
       "|           1 |     john.doe@example.com |       John | 2023-01-15 08:30:00 | 2023-01-15 08:30:00 |     None |       True |      True |\n",
       "|           3 | robert.brown@example.com |     Robert | 2023-02-10 11:05:45 | 2023-02-10 11:05:45 |     None |       True |      True |\n",
       "+-------------+--------------------------+------------+---------------------+---------------------+----------+------------+-----------+"
      ]
     },
     "execution_count": 21,
     "metadata": {},
     "output_type": "execute_result"
    }
   ],
   "source": [
    "%%sql\n",
    "select * from prod.db.dim_customer"
   ]
  },
  {
   "cell_type": "markdown",
   "id": "cad563d1-df8d-496a-b2be-d880c6eaa436",
   "metadata": {},
   "source": [
    "## Simulate inserts and updates in upstream"
   ]
  },
  {
   "cell_type": "code",
   "execution_count": 22,
   "id": "a8af7b17-1d21-465d-a76a-49e841d895df",
   "metadata": {},
   "outputs": [
    {
     "data": {
      "text/plain": [
       "DataFrame[]"
      ]
     },
     "execution_count": 22,
     "metadata": {},
     "output_type": "execute_result"
    }
   ],
   "source": [
    "# Insert some fake data for the OLTP tables\n",
    "spark.sql(\"\"\"\n",
    "-- Insert sample customers\n",
    "INSERT INTO prod.db.customer VALUES\n",
    "  (20, 'jane.smith@example.com', 'Jane', TIMESTAMP '2023-04-18 09:10:30'),\n",
    "  (30, 'robert.brown@example.com', 'Robert', TIMESTAMP '2023-03-10 11:05:45');\n",
    "\"\"\")\n"
   ]
  },
  {
   "cell_type": "code",
   "execution_count": 23,
   "id": "13e25bd2-2641-437d-8e93-9a570459a29e",
   "metadata": {},
   "outputs": [
    {
     "data": {
      "text/plain": [
       "DataFrame[]"
      ]
     },
     "execution_count": 23,
     "metadata": {},
     "output_type": "execute_result"
    }
   ],
   "source": [
    "\n",
    "spark.sql(\"\"\"\n",
    "UPDATE prod.db.customer SET email =  'john.doe_new_email@example.com', datetime_updated = TIMESTAMP '2023-03-30 08:30:00' \n",
    "WHERE customer_id = 1\n",
    "\"\"\")"
   ]
  },
  {
   "cell_type": "markdown",
   "id": "c2cc22e5-f50d-4352-b799-c221a7f026aa",
   "metadata": {},
   "source": [
    "## Preview data"
   ]
  },
  {
   "cell_type": "code",
   "execution_count": 27,
   "id": "b807d307-279e-46b9-9d63-ee5a07380178",
   "metadata": {},
   "outputs": [
    {
     "data": {
      "text/html": [
       "<table>\n",
       "    <thead>\n",
       "        <tr>\n",
       "            <th>customer_id</th>\n",
       "            <th>email</th>\n",
       "            <th>first_name</th>\n",
       "            <th>datetime_updated</th>\n",
       "        </tr>\n",
       "    </thead>\n",
       "    <tbody>\n",
       "        <tr>\n",
       "            <td>3</td>\n",
       "            <td>robert.brown@example.com</td>\n",
       "            <td>Robert</td>\n",
       "            <td>2023-02-10 11:05:45</td>\n",
       "        </tr>\n",
       "        <tr>\n",
       "            <td>30</td>\n",
       "            <td>robert.brown@example.com</td>\n",
       "            <td>Robert</td>\n",
       "            <td>2023-03-10 11:05:45</td>\n",
       "        </tr>\n",
       "        <tr>\n",
       "            <td>2</td>\n",
       "            <td>jane.smith@example.com</td>\n",
       "            <td>Jane</td>\n",
       "            <td>2023-03-18 09:10:30</td>\n",
       "        </tr>\n",
       "        <tr>\n",
       "            <td>1</td>\n",
       "            <td>john.doe_new_email@example.com</td>\n",
       "            <td>John</td>\n",
       "            <td>2023-03-30 08:30:00</td>\n",
       "        </tr>\n",
       "        <tr>\n",
       "            <td>20</td>\n",
       "            <td>jane.smith@example.com</td>\n",
       "            <td>Jane</td>\n",
       "            <td>2023-04-18 09:10:30</td>\n",
       "        </tr>\n",
       "    </tbody>\n",
       "</table>"
      ],
      "text/plain": [
       "+-------------+--------------------------------+------------+---------------------+\n",
       "| customer_id |                          email | first_name |    datetime_updated |\n",
       "+-------------+--------------------------------+------------+---------------------+\n",
       "|           3 |       robert.brown@example.com |     Robert | 2023-02-10 11:05:45 |\n",
       "|          30 |       robert.brown@example.com |     Robert | 2023-03-10 11:05:45 |\n",
       "|           2 |         jane.smith@example.com |       Jane | 2023-03-18 09:10:30 |\n",
       "|           1 | john.doe_new_email@example.com |       John | 2023-03-30 08:30:00 |\n",
       "|          20 |         jane.smith@example.com |       Jane | 2023-04-18 09:10:30 |\n",
       "+-------------+--------------------------------+------------+---------------------+"
      ]
     },
     "execution_count": 27,
     "metadata": {},
     "output_type": "execute_result"
    }
   ],
   "source": [
    "%%sql\n",
    "select * from prod.db.customer order by datetime_updated"
   ]
  },
  {
   "cell_type": "code",
   "execution_count": 30,
   "id": "ee9b1792-4c5d-43cd-adef-baf3efb2c4db",
   "metadata": {},
   "outputs": [
    {
     "data": {
      "text/html": [
       "<table>\n",
       "    <thead>\n",
       "        <tr>\n",
       "            <th>customer_id</th>\n",
       "            <th>email</th>\n",
       "            <th>first_name</th>\n",
       "            <th>datetime_updated</th>\n",
       "            <th>valid_from</th>\n",
       "            <th>valid_to</th>\n",
       "            <th>is_current</th>\n",
       "            <th>is_active</th>\n",
       "        </tr>\n",
       "    </thead>\n",
       "    <tbody>\n",
       "        <tr>\n",
       "            <td>1</td>\n",
       "            <td>john.doe@example.com</td>\n",
       "            <td>John</td>\n",
       "            <td>2023-01-15 08:30:00</td>\n",
       "            <td>2023-01-15 08:30:00</td>\n",
       "            <td>None</td>\n",
       "            <td>True</td>\n",
       "            <td>True</td>\n",
       "        </tr>\n",
       "        <tr>\n",
       "            <td>3</td>\n",
       "            <td>robert.brown@example.com</td>\n",
       "            <td>Robert</td>\n",
       "            <td>2023-02-10 11:05:45</td>\n",
       "            <td>2023-02-10 11:05:45</td>\n",
       "            <td>None</td>\n",
       "            <td>True</td>\n",
       "            <td>True</td>\n",
       "        </tr>\n",
       "        <tr>\n",
       "            <td>2</td>\n",
       "            <td>jane.smith@example.com</td>\n",
       "            <td>Jane</td>\n",
       "            <td>2023-03-18 09:10:30</td>\n",
       "            <td>2023-03-18 09:10:30</td>\n",
       "            <td>None</td>\n",
       "            <td>True</td>\n",
       "            <td>True</td>\n",
       "        </tr>\n",
       "    </tbody>\n",
       "</table>"
      ],
      "text/plain": [
       "+-------------+--------------------------+------------+---------------------+---------------------+----------+------------+-----------+\n",
       "| customer_id |                    email | first_name |    datetime_updated |          valid_from | valid_to | is_current | is_active |\n",
       "+-------------+--------------------------+------------+---------------------+---------------------+----------+------------+-----------+\n",
       "|           1 |     john.doe@example.com |       John | 2023-01-15 08:30:00 | 2023-01-15 08:30:00 |     None |       True |      True |\n",
       "|           3 | robert.brown@example.com |     Robert | 2023-02-10 11:05:45 | 2023-02-10 11:05:45 |     None |       True |      True |\n",
       "|           2 |   jane.smith@example.com |       Jane | 2023-03-18 09:10:30 | 2023-03-18 09:10:30 |     None |       True |      True |\n",
       "+-------------+--------------------------+------------+---------------------+---------------------+----------+------------+-----------+"
      ]
     },
     "execution_count": 30,
     "metadata": {},
     "output_type": "execute_result"
    }
   ],
   "source": [
    "%%sql --show\n",
    "select *\n",
    "from prod.db.dim_customer\n",
    "order by datetime_updated"
   ]
  },
  {
   "cell_type": "code",
   "execution_count": 31,
   "id": "5ab22382-d4b3-4bca-b405-4ded6378195e",
   "metadata": {},
   "outputs": [
    {
     "data": {
      "text/html": [
       "<table>\n",
       "    <thead>\n",
       "        <tr>\n",
       "            <th>customer_id</th>\n",
       "            <th>email</th>\n",
       "            <th>first_name</th>\n",
       "            <th>datetime_updated</th>\n",
       "        </tr>\n",
       "    </thead>\n",
       "    <tbody>\n",
       "        <tr>\n",
       "            <td>1</td>\n",
       "            <td>john.doe_new_email@example.com</td>\n",
       "            <td>John</td>\n",
       "            <td>2023-03-30 08:30:00</td>\n",
       "        </tr>\n",
       "    </tbody>\n",
       "</table>"
      ],
      "text/plain": [
       "+-------------+--------------------------------+------------+---------------------+\n",
       "| customer_id |                          email | first_name |    datetime_updated |\n",
       "+-------------+--------------------------------+------------+---------------------+\n",
       "|           1 | john.doe_new_email@example.com |       John | 2023-03-30 08:30:00 |\n",
       "+-------------+--------------------------------+------------+---------------------+"
      ]
     },
     "execution_count": 31,
     "metadata": {},
     "output_type": "execute_result"
    }
   ],
   "source": [
    "%%sql --show\n",
    "With customers_with_updates as (\n",
    "select c.*\n",
    "    from prod.db.customer c\n",
    "    join prod.db.dim_customer dc\n",
    "    on c.customer_id = dc.customer_id -- Customer exists in dim_customer\n",
    "    where c.datetime_updated > dc.datetime_updated -- ensure that the update in upstream customer is newer than the latest data in dim_customer\n",
    "    and dc.is_current = true -- only look at the most current state of customer in dim_customer\n",
    ")\n",
    "select * from customers_with_updates"
   ]
  },
  {
   "cell_type": "markdown",
   "id": "8ff01d14-b0ef-4b1c-9da8-1e86616f9060",
   "metadata": {},
   "source": [
    "## MERGE INTO logic"
   ]
  },
  {
   "cell_type": "code",
   "execution_count": 32,
   "id": "d4f43e08-760c-4e90-8518-7cc64a3e45d9",
   "metadata": {},
   "outputs": [
    {
     "data": {
      "text/html": [
       "<table>\n",
       "    <thead>\n",
       "        <tr>\n",
       "        </tr>\n",
       "    </thead>\n",
       "    <tbody>\n",
       "    </tbody>\n",
       "</table>"
      ],
      "text/plain": [
       "++\n",
       "||\n",
       "++\n",
       "++"
      ]
     },
     "execution_count": 32,
     "metadata": {},
     "output_type": "execute_result"
    }
   ],
   "source": [
    "%%sql\n",
    "With customers_with_updates as (\n",
    "select c.*\n",
    "    from prod.db.customer c\n",
    "    join prod.db.dim_customer dc\n",
    "    on c.customer_id = dc.customer_id -- Customer exists in dim_customer\n",
    "    where c.datetime_updated > dc.datetime_updated -- ensure that the update in upstream customer is newer than the latest data in dim_customer\n",
    "    and dc.is_current = true -- only look at the most current state of customer in dim_customer\n",
    ")\n",
    "MERGE INTO prod.db.dim_customer t -- target dim_customer to update\n",
    "USING (\n",
    "    select customer_id as join_key, * from prod.db.customer -- New customers to be INSERTED, existing customers to be UPDATED\n",
    "    union all\n",
    "    select NULL as join_key, * from customers_with_updates -- Existing customers, but updated values to be INSERTED\n",
    "    ) s\n",
    "ON t.customer_id = s.join_key -- natural key for customer\n",
    "\n",
    "    WHEN MATCHED AND is_current = true AND s.datetime_updated > t.datetime_updated -- condition to UPDATE most recent customers in dim_customer that have had updates\n",
    "    THEN UPDATE SET is_current = false, valid_to = s.datetime_updated\n",
    "    \n",
    "    WHEN NOT MATCHED \n",
    "    THEN INSERT (customer_id,email,first_name,datetime_updated,valid_from,is_current,is_active) -- condition to INSERT new customers and customers with updates\n",
    "    VALUES (s.customer_id,s.email,s.first_name,s.datetime_updated,s.datetime_updated,true,true)\n",
    "\n",
    "    WHEN NOT MATCHED BY SOURCE -- condition to set deleted customers in dim_customer to be in-active\n",
    "    THEN UPDATE SET is_active = false"
   ]
  },
  {
   "cell_type": "markdown",
   "id": "15b15983-a012-40ab-af9d-66a402fb01f4",
   "metadata": {},
   "source": [
    "## Check output SCD2 data"
   ]
  },
  {
   "cell_type": "code",
   "execution_count": 34,
   "id": "32992a84-128a-4e7c-94f7-58c3c6022d91",
   "metadata": {},
   "outputs": [
    {
     "data": {
      "text/html": [
       "<table>\n",
       "    <thead>\n",
       "        <tr>\n",
       "            <th>customer_id</th>\n",
       "            <th>email</th>\n",
       "            <th>first_name</th>\n",
       "            <th>datetime_updated</th>\n",
       "            <th>valid_from</th>\n",
       "            <th>valid_to</th>\n",
       "            <th>is_current</th>\n",
       "            <th>is_active</th>\n",
       "        </tr>\n",
       "    </thead>\n",
       "    <tbody>\n",
       "        <tr>\n",
       "            <td>1</td>\n",
       "            <td>john.doe@example.com</td>\n",
       "            <td>John</td>\n",
       "            <td>2023-01-15 08:30:00</td>\n",
       "            <td>2023-01-15 08:30:00</td>\n",
       "            <td>2023-03-30 08:30:00</td>\n",
       "            <td>False</td>\n",
       "            <td>True</td>\n",
       "        </tr>\n",
       "        <tr>\n",
       "            <td>3</td>\n",
       "            <td>robert.brown@example.com</td>\n",
       "            <td>Robert</td>\n",
       "            <td>2023-02-10 11:05:45</td>\n",
       "            <td>2023-02-10 11:05:45</td>\n",
       "            <td>None</td>\n",
       "            <td>True</td>\n",
       "            <td>True</td>\n",
       "        </tr>\n",
       "        <tr>\n",
       "            <td>30</td>\n",
       "            <td>robert.brown@example.com</td>\n",
       "            <td>Robert</td>\n",
       "            <td>2023-03-10 11:05:45</td>\n",
       "            <td>2023-03-10 11:05:45</td>\n",
       "            <td>None</td>\n",
       "            <td>True</td>\n",
       "            <td>True</td>\n",
       "        </tr>\n",
       "        <tr>\n",
       "            <td>2</td>\n",
       "            <td>jane.smith@example.com</td>\n",
       "            <td>Jane</td>\n",
       "            <td>2023-03-18 09:10:30</td>\n",
       "            <td>2023-03-18 09:10:30</td>\n",
       "            <td>None</td>\n",
       "            <td>True</td>\n",
       "            <td>True</td>\n",
       "        </tr>\n",
       "        <tr>\n",
       "            <td>1</td>\n",
       "            <td>john.doe_new_email@example.com</td>\n",
       "            <td>John</td>\n",
       "            <td>2023-03-30 08:30:00</td>\n",
       "            <td>2023-03-30 08:30:00</td>\n",
       "            <td>None</td>\n",
       "            <td>True</td>\n",
       "            <td>True</td>\n",
       "        </tr>\n",
       "        <tr>\n",
       "            <td>20</td>\n",
       "            <td>jane.smith@example.com</td>\n",
       "            <td>Jane</td>\n",
       "            <td>2023-04-18 09:10:30</td>\n",
       "            <td>2023-04-18 09:10:30</td>\n",
       "            <td>None</td>\n",
       "            <td>True</td>\n",
       "            <td>True</td>\n",
       "        </tr>\n",
       "    </tbody>\n",
       "</table>"
      ],
      "text/plain": [
       "+-------------+--------------------------------+------------+---------------------+---------------------+---------------------+------------+-----------+\n",
       "| customer_id |                          email | first_name |    datetime_updated |          valid_from |            valid_to | is_current | is_active |\n",
       "+-------------+--------------------------------+------------+---------------------+---------------------+---------------------+------------+-----------+\n",
       "|           1 |           john.doe@example.com |       John | 2023-01-15 08:30:00 | 2023-01-15 08:30:00 | 2023-03-30 08:30:00 |      False |      True |\n",
       "|           3 |       robert.brown@example.com |     Robert | 2023-02-10 11:05:45 | 2023-02-10 11:05:45 |                None |       True |      True |\n",
       "|          30 |       robert.brown@example.com |     Robert | 2023-03-10 11:05:45 | 2023-03-10 11:05:45 |                None |       True |      True |\n",
       "|           2 |         jane.smith@example.com |       Jane | 2023-03-18 09:10:30 | 2023-03-18 09:10:30 |                None |       True |      True |\n",
       "|           1 | john.doe_new_email@example.com |       John | 2023-03-30 08:30:00 | 2023-03-30 08:30:00 |                None |       True |      True |\n",
       "|          20 |         jane.smith@example.com |       Jane | 2023-04-18 09:10:30 | 2023-04-18 09:10:30 |                None |       True |      True |\n",
       "+-------------+--------------------------------+------------+---------------------+---------------------+---------------------+------------+-----------+"
      ]
     },
     "execution_count": 34,
     "metadata": {},
     "output_type": "execute_result"
    }
   ],
   "source": [
    "%%sql\n",
    "select * from prod.db.dim_customer\n",
    "order by datetime_updated"
   ]
  }
 ],
 "metadata": {
  "kernelspec": {
   "display_name": "Python 3 (ipykernel)",
   "language": "python",
   "name": "python3"
  },
  "language_info": {
   "codemirror_mode": {
    "name": "ipython",
    "version": 3
   },
   "file_extension": ".py",
   "mimetype": "text/x-python",
   "name": "python",
   "nbconvert_exporter": "python",
   "pygments_lexer": "ipython3",
   "version": "3.10.16"
  }
 },
 "nbformat": 4,
 "nbformat_minor": 5
}
