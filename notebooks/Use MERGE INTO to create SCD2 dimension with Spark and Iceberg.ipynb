{
 "cells": [
  {
   "cell_type": "markdown",
   "id": "bc1062de-4fa3-4c3c-9f3e-a159a67a7037",
   "metadata": {},
   "source": [
    "# Setup"
   ]
  },
  {
   "cell_type": "code",
   "execution_count": 1,
   "id": "257ce73c-f29d-4f98-b681-4c5dc3773b92",
   "metadata": {},
   "outputs": [
    {
     "data": {
      "text/html": [
       "\n",
       "            <div>\n",
       "                <p><b>SparkSession - in-memory</b></p>\n",
       "                \n",
       "        <div>\n",
       "            <p><b>SparkContext</b></p>\n",
       "\n",
       "            <p><a href=\"http://b52292f501e7:4040\">Spark UI</a></p>\n",
       "\n",
       "            <dl>\n",
       "              <dt>Version</dt>\n",
       "                <dd><code>v3.5.5</code></dd>\n",
       "              <dt>Master</dt>\n",
       "                <dd><code>local[*]</code></dd>\n",
       "              <dt>AppName</dt>\n",
       "                <dd><code>PySparkShell</code></dd>\n",
       "            </dl>\n",
       "        </div>\n",
       "        \n",
       "            </div>\n",
       "        "
      ],
      "text/plain": [
       "<pyspark.sql.session.SparkSession at 0x7dafb97ad810>"
      ]
     },
     "execution_count": 1,
     "metadata": {},
     "output_type": "execute_result"
    }
   ],
   "source": [
    "spark # We will have a sparksession available"
   ]
  },
  {
   "cell_type": "markdown",
   "id": "c2a98b38-4ed4-49f6-beda-47204506dbea",
   "metadata": {},
   "source": [
    "# DDL"
   ]
  },
  {
   "cell_type": "markdown",
   "id": "210b44b9-fae7-42bc-8fed-74a5f0efed83",
   "metadata": {},
   "source": [
    "## Create raw customer upstream table"
   ]
  },
  {
   "cell_type": "code",
   "execution_count": 1,
   "id": "8568c83d-a7bd-40a0-a8ce-377bd127469a",
   "metadata": {},
   "outputs": [
    {
     "name": "stderr",
     "output_type": "stream",
     "text": [
      "                                                                                "
     ]
    },
    {
     "data": {
      "text/plain": [
       "DataFrame[]"
      ]
     },
     "execution_count": 1,
     "metadata": {},
     "output_type": "execute_result"
    }
   ],
   "source": [
    "spark.sql(\"DROP TABLE IF EXISTS prod.db.customer\")\n",
    "\n",
    "# Table DDL for customer upstream table\n",
    "spark.sql(\"\"\"\n",
    "CREATE TABLE IF NOT EXISTS prod.db.customer (\n",
    "    customer_id INT,\n",
    "    email STRING,\n",
    "    first_name STRING,\n",
    "    datetime_created TIMESTAMP,\n",
    "    datetime_updated TIMESTAMP\n",
    ") USING iceberg\n",
    "TBLPROPERTIES (\n",
    "    'format-version' = '2'\n",
    ")\"\"\")\n",
    "\n",
    "# Insert some fake data for the OLTP tables\n",
    "spark.sql(\"\"\"\n",
    "-- Insert sample customers\n",
    "INSERT INTO prod.db.customer VALUES\n",
    "  (1, 'john.doe@example.com', 'John', TIMESTAMP '2023-01-15 08:30:00', TIMESTAMP '2023-03-20 14:22:15'),\n",
    "  (2, 'jane.smith@example.com', 'Jane', TIMESTAMP '2023-03-18 09:10:30', TIMESTAMP '2023-02-05 12:45:00'),\n",
    "  (3, 'robert.brown@example.com', 'Robert', TIMESTAMP '2023-02-10 11:05:45', TIMESTAMP '2023-01-25 15:20:00');\n",
    "\"\"\")"
   ]
  },
  {
   "cell_type": "markdown",
   "id": "134d3f4a-bfdc-44d4-a5f3-66ccceecc457",
   "metadata": {},
   "source": [
    "## Create customer_dim dimension table"
   ]
  },
  {
   "cell_type": "code",
   "execution_count": 41,
   "id": "c1b1dbab-2161-4cd1-b4e3-99876c2e3c7b",
   "metadata": {},
   "outputs": [
    {
     "data": {
      "text/plain": [
       "DataFrame[]"
      ]
     },
     "execution_count": 41,
     "metadata": {},
     "output_type": "execute_result"
    }
   ],
   "source": [
    "spark.sql(\"DROP TABLE IF EXISTS prod.db.dim_customer\")\n",
    "\n",
    "spark.sql(\"\"\"\n",
    "CREATE TABLE IF NOT EXISTS prod.db.dim_customer (\n",
    "    customer_id INT,\n",
    "    email STRING,\n",
    "    first_name STRING,\n",
    "    datetime_created TIMESTAMP,\n",
    "    datetime_updated TIMESTAMP,\n",
    "    -- scd2 columns\n",
    "    valid_from TIMESTAMP,\n",
    "    valid_to TIMESTAMP,\n",
    "    is_current boolean\n",
    ") USING iceberg\n",
    "PARTITIONED BY (datetime_updated)\n",
    "TBLPROPERTIES (\n",
    "    'format-version' = '2'\n",
    ");\"\"\")"
   ]
  },
  {
   "cell_type": "code",
   "execution_count": 42,
   "id": "c12f41ea-253a-4255-b4ae-e9bc68cd7670",
   "metadata": {},
   "outputs": [
    {
     "data": {
      "text/html": [
       "<table>\n",
       "    <thead>\n",
       "        <tr>\n",
       "            <th>customer_id</th>\n",
       "            <th>email</th>\n",
       "            <th>first_name</th>\n",
       "            <th>datetime_created</th>\n",
       "            <th>datetime_updated</th>\n",
       "        </tr>\n",
       "    </thead>\n",
       "    <tbody>\n",
       "        <tr>\n",
       "            <td>1</td>\n",
       "            <td>john.doe@example.com</td>\n",
       "            <td>John</td>\n",
       "            <td>2023-01-15 08:30:00</td>\n",
       "            <td>2023-03-20 14:22:15</td>\n",
       "        </tr>\n",
       "        <tr>\n",
       "            <td>2</td>\n",
       "            <td>jane.smith@example.com</td>\n",
       "            <td>Jane</td>\n",
       "            <td>2023-03-18 09:10:30</td>\n",
       "            <td>2023-02-05 12:45:00</td>\n",
       "        </tr>\n",
       "        <tr>\n",
       "            <td>3</td>\n",
       "            <td>robert.brown@example.com</td>\n",
       "            <td>Robert</td>\n",
       "            <td>2023-02-10 11:05:45</td>\n",
       "            <td>2023-01-25 15:20:00</td>\n",
       "        </tr>\n",
       "    </tbody>\n",
       "</table>"
      ],
      "text/plain": [
       "+-------------+--------------------------+------------+---------------------+---------------------+\n",
       "| customer_id |                    email | first_name |    datetime_created |    datetime_updated |\n",
       "+-------------+--------------------------+------------+---------------------+---------------------+\n",
       "|           1 |     john.doe@example.com |       John | 2023-01-15 08:30:00 | 2023-03-20 14:22:15 |\n",
       "|           2 |   jane.smith@example.com |       Jane | 2023-03-18 09:10:30 | 2023-02-05 12:45:00 |\n",
       "|           3 | robert.brown@example.com |     Robert | 2023-02-10 11:05:45 | 2023-01-25 15:20:00 |\n",
       "+-------------+--------------------------+------------+---------------------+---------------------+"
      ]
     },
     "execution_count": 42,
     "metadata": {},
     "output_type": "execute_result"
    }
   ],
   "source": [
    "%%sql\n",
    "select * from prod.db.customer"
   ]
  },
  {
   "cell_type": "code",
   "execution_count": 43,
   "id": "9180ac66-2054-403a-a422-4ebd88180821",
   "metadata": {},
   "outputs": [
    {
     "data": {
      "text/html": [
       "<table>\n",
       "    <thead>\n",
       "        <tr>\n",
       "            <th>customer_id</th>\n",
       "            <th>email</th>\n",
       "            <th>first_name</th>\n",
       "            <th>datetime_created</th>\n",
       "            <th>datetime_updated</th>\n",
       "            <th>valid_from</th>\n",
       "            <th>valid_to</th>\n",
       "            <th>is_current</th>\n",
       "        </tr>\n",
       "    </thead>\n",
       "    <tbody>\n",
       "    </tbody>\n",
       "</table>"
      ],
      "text/plain": [
       "+-------------+-------+------------+------------------+------------------+------------+----------+------------+\n",
       "| customer_id | email | first_name | datetime_created | datetime_updated | valid_from | valid_to | is_current |\n",
       "+-------------+-------+------------+------------------+------------------+------------+----------+------------+\n",
       "+-------------+-------+------------+------------------+------------------+------------+----------+------------+"
      ]
     },
     "execution_count": 43,
     "metadata": {},
     "output_type": "execute_result"
    }
   ],
   "source": [
    "%%sql\n",
    "select * from prod.db.dim_customer"
   ]
  },
  {
   "cell_type": "markdown",
   "id": "54c66623-8dce-4290-b5af-4fef9bb63494",
   "metadata": {},
   "source": [
    "# Merge Into\n",
    "\n",
    "Merge into is an operation meant to insert/update/delete rows from a dataset called target given a new dataset called source. The MERGE INTO operation allows us to do updates/insert/deletes\n",
    "\n",
    "1. WHEN MATCHED: Update & Delete\n",
    "2. WHEN NOT MATCHED: Inserts\n",
    "3. WHEN NOT MATCHED BY SOURCE: Update or Delete\n",
    " \n",
    "I addition to this the when matched clause should only modify one target row, since ...\n",
    "\n",
    "add: merge into image"
   ]
  },
  {
   "cell_type": "code",
   "execution_count": 29,
   "id": "bf278ce8-744c-4e11-8717-3ab6da958f7c",
   "metadata": {},
   "outputs": [
    {
     "data": {
      "text/html": [
       "<table>\n",
       "    <thead>\n",
       "        <tr>\n",
       "            <th>customer_id</th>\n",
       "            <th>email</th>\n",
       "            <th>first_name</th>\n",
       "            <th>datetime_created</th>\n",
       "            <th>datetime_updated</th>\n",
       "            <th>valid_from</th>\n",
       "            <th>valid_to</th>\n",
       "            <th>is_current</th>\n",
       "        </tr>\n",
       "    </thead>\n",
       "    <tbody>\n",
       "    </tbody>\n",
       "</table>"
      ],
      "text/plain": [
       "+-------------+-------+------------+------------------+------------------+------------+----------+------------+\n",
       "| customer_id | email | first_name | datetime_created | datetime_updated | valid_from | valid_to | is_current |\n",
       "+-------------+-------+------------+------------------+------------------+------------+----------+------------+\n",
       "+-------------+-------+------------+------------------+------------------+------------+----------+------------+"
      ]
     },
     "execution_count": 29,
     "metadata": {},
     "output_type": "execute_result"
    }
   ],
   "source": [
    "%%sql\n",
    "select *\n",
    "from prod.db.dim_customer"
   ]
  },
  {
   "cell_type": "code",
   "execution_count": 30,
   "id": "cf936247-d117-4801-b37d-86ebf0bde290",
   "metadata": {},
   "outputs": [
    {
     "data": {
      "text/html": [
       "<table>\n",
       "    <thead>\n",
       "        <tr>\n",
       "            <th>customer_id</th>\n",
       "            <th>email</th>\n",
       "            <th>first_name</th>\n",
       "            <th>datetime_created</th>\n",
       "            <th>datetime_updated</th>\n",
       "        </tr>\n",
       "    </thead>\n",
       "    <tbody>\n",
       "        <tr>\n",
       "            <td>1</td>\n",
       "            <td>john.doe@example.com</td>\n",
       "            <td>John</td>\n",
       "            <td>2023-01-15 08:30:00</td>\n",
       "            <td>2023-03-20 14:22:15</td>\n",
       "        </tr>\n",
       "        <tr>\n",
       "            <td>2</td>\n",
       "            <td>jane.smith@example.com</td>\n",
       "            <td>Jane</td>\n",
       "            <td>2023-03-18 09:10:30</td>\n",
       "            <td>2023-02-05 12:45:00</td>\n",
       "        </tr>\n",
       "        <tr>\n",
       "            <td>3</td>\n",
       "            <td>robert.brown@example.com</td>\n",
       "            <td>Robert</td>\n",
       "            <td>2023-02-10 11:05:45</td>\n",
       "            <td>2023-01-25 15:20:00</td>\n",
       "        </tr>\n",
       "    </tbody>\n",
       "</table>"
      ],
      "text/plain": [
       "+-------------+--------------------------+------------+---------------------+---------------------+\n",
       "| customer_id |                    email | first_name |    datetime_created |    datetime_updated |\n",
       "+-------------+--------------------------+------------+---------------------+---------------------+\n",
       "|           1 |     john.doe@example.com |       John | 2023-01-15 08:30:00 | 2023-03-20 14:22:15 |\n",
       "|           2 |   jane.smith@example.com |       Jane | 2023-03-18 09:10:30 | 2023-02-05 12:45:00 |\n",
       "|           3 | robert.brown@example.com |     Robert | 2023-02-10 11:05:45 | 2023-01-25 15:20:00 |\n",
       "+-------------+--------------------------+------------+---------------------+---------------------+"
      ]
     },
     "execution_count": 30,
     "metadata": {},
     "output_type": "execute_result"
    }
   ],
   "source": [
    "%%sql\n",
    "select * from prod.db.customer"
   ]
  },
  {
   "cell_type": "markdown",
   "id": "1fcb5bc0-c27f-44eb-b070-96df5cffe91e",
   "metadata": {},
   "source": [
    "cant have accept any schema on MERGE INTO"
   ]
  },
  {
   "cell_type": "code",
   "execution_count": 32,
   "id": "ca387c7a-34dd-41e0-a41a-3ae41bc24510",
   "metadata": {},
   "outputs": [
    {
     "data": {
      "text/html": [
       "<table>\n",
       "    <thead>\n",
       "        <tr>\n",
       "        </tr>\n",
       "    </thead>\n",
       "    <tbody>\n",
       "    </tbody>\n",
       "</table>"
      ],
      "text/plain": [
       "++\n",
       "||\n",
       "++\n",
       "++"
      ]
     },
     "execution_count": 32,
     "metadata": {},
     "output_type": "execute_result"
    }
   ],
   "source": [
    "%%sql\n",
    "MERGE INTO prod.db.dim_customer t\n",
    "USING prod.db.customer s\n",
    "ON t.customer_id = s.customer_id\n",
    "WHEN MATCHED THEN UPDATE SET is_current = false, valid_to = s.datetime_updated\n",
    "WHEN NOT MATCHED THEN INSERT (customer_id,email,first_name,datetime_created,datetime_updated,valid_from,is_current)\n",
    "VALUES\n",
    "(s.customer_id,s.email,s.first_name,s.datetime_created,s.datetime_updated,s.datetime_updated,true)"
   ]
  },
  {
   "cell_type": "code",
   "execution_count": 44,
   "id": "15924098-39ff-4229-a4f8-74444cf325af",
   "metadata": {},
   "outputs": [
    {
     "data": {
      "text/html": [
       "<table>\n",
       "    <thead>\n",
       "        <tr>\n",
       "            <th>customer_id</th>\n",
       "            <th>email</th>\n",
       "            <th>first_name</th>\n",
       "            <th>datetime_created</th>\n",
       "            <th>datetime_updated</th>\n",
       "            <th>valid_from</th>\n",
       "            <th>valid_to</th>\n",
       "            <th>is_current</th>\n",
       "        </tr>\n",
       "    </thead>\n",
       "    <tbody>\n",
       "    </tbody>\n",
       "</table>"
      ],
      "text/plain": [
       "+-------------+-------+------------+------------------+------------------+------------+----------+------------+\n",
       "| customer_id | email | first_name | datetime_created | datetime_updated | valid_from | valid_to | is_current |\n",
       "+-------------+-------+------------+------------------+------------------+------------+----------+------------+\n",
       "+-------------+-------+------------+------------------+------------------+------------+----------+------------+"
      ]
     },
     "execution_count": 44,
     "metadata": {},
     "output_type": "execute_result"
    }
   ],
   "source": [
    "%%sql\n",
    "select * from prod.db.dim_customer"
   ]
  },
  {
   "cell_type": "code",
   "execution_count": 47,
   "id": "5f87fb0e-5b60-4983-a501-15a9b4abea1a",
   "metadata": {},
   "outputs": [
    {
     "data": {
      "text/html": [
       "<table>\n",
       "    <thead>\n",
       "        <tr>\n",
       "        </tr>\n",
       "    </thead>\n",
       "    <tbody>\n",
       "    </tbody>\n",
       "</table>"
      ],
      "text/plain": [
       "++\n",
       "||\n",
       "++\n",
       "++"
      ]
     },
     "execution_count": 47,
     "metadata": {},
     "output_type": "execute_result"
    }
   ],
   "source": [
    "%%sql\n",
    "MERGE INTO prod.db.dim_customer t\n",
    "USING (\n",
    "    SELECT NULL as join_key, * FROM prod.db.customer\n",
    "    UNION ALL\n",
    "    SELECT customer_id as join_key, * FROM prod.db.customer\n",
    ") s\n",
    "ON t.customer_id = s.join_key\n",
    "WHEN MATCHED THEN UPDATE SET is_current = false, valid_to = s.datetime_updated\n",
    "WHEN NOT MATCHED and s.join_key is null THEN INSERT (customer_id,email,first_name,datetime_created,datetime_updated,valid_from,is_current)\n",
    "VALUES\n",
    "(s.customer_id,s.email,s.first_name,s.datetime_created,s.datetime_updated,s.datetime_updated,true)"
   ]
  },
  {
   "cell_type": "code",
   "execution_count": 48,
   "id": "00763125-ecc7-4af3-8a02-45f2965063b5",
   "metadata": {},
   "outputs": [
    {
     "data": {
      "text/html": [
       "<table>\n",
       "    <thead>\n",
       "        <tr>\n",
       "            <th>customer_id</th>\n",
       "            <th>email</th>\n",
       "            <th>first_name</th>\n",
       "            <th>datetime_created</th>\n",
       "            <th>datetime_updated</th>\n",
       "            <th>valid_from</th>\n",
       "            <th>valid_to</th>\n",
       "            <th>is_current</th>\n",
       "        </tr>\n",
       "    </thead>\n",
       "    <tbody>\n",
       "        <tr>\n",
       "            <td>3</td>\n",
       "            <td>robert.brown@example.com</td>\n",
       "            <td>Robert</td>\n",
       "            <td>2023-02-10 11:05:45</td>\n",
       "            <td>2023-01-25 15:20:00</td>\n",
       "            <td>2023-01-25 15:20:00</td>\n",
       "            <td>None</td>\n",
       "            <td>True</td>\n",
       "        </tr>\n",
       "        <tr>\n",
       "            <td>3</td>\n",
       "            <td>robert.brown@example.com</td>\n",
       "            <td>Robert</td>\n",
       "            <td>2023-02-10 11:05:45</td>\n",
       "            <td>2023-01-25 15:20:00</td>\n",
       "            <td>2023-01-25 15:20:00</td>\n",
       "            <td>2023-01-25 15:20:00</td>\n",
       "            <td>False</td>\n",
       "        </tr>\n",
       "        <tr>\n",
       "            <td>2</td>\n",
       "            <td>jane.smith@example.com</td>\n",
       "            <td>Jane</td>\n",
       "            <td>2023-03-18 09:10:30</td>\n",
       "            <td>2023-02-05 12:45:00</td>\n",
       "            <td>2023-02-05 12:45:00</td>\n",
       "            <td>None</td>\n",
       "            <td>True</td>\n",
       "        </tr>\n",
       "        <tr>\n",
       "            <td>2</td>\n",
       "            <td>jane.smith@example.com</td>\n",
       "            <td>Jane</td>\n",
       "            <td>2023-03-18 09:10:30</td>\n",
       "            <td>2023-02-05 12:45:00</td>\n",
       "            <td>2023-02-05 12:45:00</td>\n",
       "            <td>2023-02-05 12:45:00</td>\n",
       "            <td>False</td>\n",
       "        </tr>\n",
       "        <tr>\n",
       "            <td>1</td>\n",
       "            <td>john.doe@example.com</td>\n",
       "            <td>John</td>\n",
       "            <td>2023-01-15 08:30:00</td>\n",
       "            <td>2023-03-20 14:22:15</td>\n",
       "            <td>2023-03-20 14:22:15</td>\n",
       "            <td>None</td>\n",
       "            <td>True</td>\n",
       "        </tr>\n",
       "        <tr>\n",
       "            <td>1</td>\n",
       "            <td>john.doe@example.com</td>\n",
       "            <td>John</td>\n",
       "            <td>2023-01-15 08:30:00</td>\n",
       "            <td>2023-03-20 14:22:15</td>\n",
       "            <td>2023-03-20 14:22:15</td>\n",
       "            <td>2023-03-20 14:22:15</td>\n",
       "            <td>False</td>\n",
       "        </tr>\n",
       "    </tbody>\n",
       "</table>"
      ],
      "text/plain": [
       "+-------------+--------------------------+------------+---------------------+---------------------+---------------------+---------------------+------------+\n",
       "| customer_id |                    email | first_name |    datetime_created |    datetime_updated |          valid_from |            valid_to | is_current |\n",
       "+-------------+--------------------------+------------+---------------------+---------------------+---------------------+---------------------+------------+\n",
       "|           3 | robert.brown@example.com |     Robert | 2023-02-10 11:05:45 | 2023-01-25 15:20:00 | 2023-01-25 15:20:00 |                None |       True |\n",
       "|           3 | robert.brown@example.com |     Robert | 2023-02-10 11:05:45 | 2023-01-25 15:20:00 | 2023-01-25 15:20:00 | 2023-01-25 15:20:00 |      False |\n",
       "|           2 |   jane.smith@example.com |       Jane | 2023-03-18 09:10:30 | 2023-02-05 12:45:00 | 2023-02-05 12:45:00 |                None |       True |\n",
       "|           2 |   jane.smith@example.com |       Jane | 2023-03-18 09:10:30 | 2023-02-05 12:45:00 | 2023-02-05 12:45:00 | 2023-02-05 12:45:00 |      False |\n",
       "|           1 |     john.doe@example.com |       John | 2023-01-15 08:30:00 | 2023-03-20 14:22:15 | 2023-03-20 14:22:15 |                None |       True |\n",
       "|           1 |     john.doe@example.com |       John | 2023-01-15 08:30:00 | 2023-03-20 14:22:15 | 2023-03-20 14:22:15 | 2023-03-20 14:22:15 |      False |\n",
       "+-------------+--------------------------+------------+---------------------+---------------------+---------------------+---------------------+------------+"
      ]
     },
     "execution_count": 48,
     "metadata": {},
     "output_type": "execute_result"
    }
   ],
   "source": [
    "%%sql\n",
    "select *\n",
    "from prod.db.dim_customer"
   ]
  },
  {
   "cell_type": "code",
   "execution_count": null,
   "id": "a8af7b17-1d21-465d-a76a-49e841d895df",
   "metadata": {},
   "outputs": [],
   "source": []
  }
 ],
 "metadata": {
  "kernelspec": {
   "display_name": "Python 3 (ipykernel)",
   "language": "python",
   "name": "python3"
  },
  "language_info": {
   "codemirror_mode": {
    "name": "ipython",
    "version": 3
   },
   "file_extension": ".py",
   "mimetype": "text/x-python",
   "name": "python",
   "nbconvert_exporter": "python",
   "pygments_lexer": "ipython3",
   "version": "3.10.16"
  }
 },
 "nbformat": 4,
 "nbformat_minor": 5
}
